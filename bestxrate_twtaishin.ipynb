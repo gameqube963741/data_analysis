{
  "nbformat": 4,
  "nbformat_minor": 0,
  "metadata": {
    "colab": {
      "name": "bestxrate_twtaishin.ipynb",
      "provenance": [],
      "collapsed_sections": [],
      "authorship_tag": "ABX9TyOyb2RPCMqg8QO0yHVd97J9",
      "include_colab_link": true
    },
    "kernelspec": {
      "name": "python3",
      "display_name": "Python 3"
    }
  },
  "cells": [
    {
      "cell_type": "markdown",
      "metadata": {
        "id": "view-in-github",
        "colab_type": "text"
      },
      "source": [
        "<a href=\"https://colab.research.google.com/github/gameqube963741/data_analysis/blob/master/bestxrate_twtaishin.ipynb\" target=\"_parent\"><img src=\"https://colab.research.google.com/assets/colab-badge.svg\" alt=\"Open In Colab\"/></a>"
      ]
    },
    {
      "cell_type": "code",
      "metadata": {
        "id": "J8tVKcjd4fJl"
      },
      "source": [
        "import pandas as pd\n",
        "dfs = pd.read_html('https://www.bestxrate.com/bankrate/twtaishin/usd/selltt.html')"
      ],
      "execution_count": 80,
      "outputs": []
    },
    {
      "cell_type": "code",
      "metadata": {
        "id": "35pGhfSk4jhH",
        "outputId": "e149d741-4069-4b16-efa3-97efb5ae91d7",
        "colab": {
          "base_uri": "https://localhost:8080/",
          "height": 34
        }
      },
      "source": [
        "len(dfs)"
      ],
      "execution_count": 81,
      "outputs": [
        {
          "output_type": "execute_result",
          "data": {
            "text/plain": [
              "2"
            ]
          },
          "metadata": {
            "tags": []
          },
          "execution_count": 81
        }
      ]
    },
    {
      "cell_type": "code",
      "metadata": {
        "id": "SoCwYKd_4tqR",
        "outputId": "86d22bdd-bea3-43fe-9409-bfdd8af263f0",
        "colab": {
          "base_uri": "https://localhost:8080/",
          "height": 173
        }
      },
      "source": [
        "dfs[0]"
      ],
      "execution_count": 82,
      "outputs": [
        {
          "output_type": "execute_result",
          "data": {
            "text/html": [
              "<div>\n",
              "<style scoped>\n",
              "    .dataframe tbody tr th:only-of-type {\n",
              "        vertical-align: middle;\n",
              "    }\n",
              "\n",
              "    .dataframe tbody tr th {\n",
              "        vertical-align: top;\n",
              "    }\n",
              "\n",
              "    .dataframe thead th {\n",
              "        text-align: right;\n",
              "    }\n",
              "</style>\n",
              "<table border=\"1\" class=\"dataframe\">\n",
              "  <thead>\n",
              "    <tr style=\"text-align: right;\">\n",
              "      <th></th>\n",
              "      <th>0</th>\n",
              "      <th>1</th>\n",
              "    </tr>\n",
              "  </thead>\n",
              "  <tbody>\n",
              "    <tr>\n",
              "      <th>0</th>\n",
              "      <td>漲跌</td>\n",
              "      <td>-0.53 (-1.7933%)</td>\n",
              "    </tr>\n",
              "    <tr>\n",
              "      <th>1</th>\n",
              "      <td>最高</td>\n",
              "      <td>29.555 (0.0000%)</td>\n",
              "    </tr>\n",
              "    <tr>\n",
              "      <th>2</th>\n",
              "      <td>最低</td>\n",
              "      <td>29.025 (-1.7933%)</td>\n",
              "    </tr>\n",
              "    <tr>\n",
              "      <th>3</th>\n",
              "      <td>平均</td>\n",
              "      <td>29.3861 (-0.5713%)</td>\n",
              "    </tr>\n",
              "  </tbody>\n",
              "</table>\n",
              "</div>"
            ],
            "text/plain": [
              "    0                   1\n",
              "0  漲跌    -0.53 (-1.7933%)\n",
              "1  最高    29.555 (0.0000%)\n",
              "2  最低   29.025 (-1.7933%)\n",
              "3  平均  29.3861 (-0.5713%)"
            ]
          },
          "metadata": {
            "tags": []
          },
          "execution_count": 82
        }
      ]
    },
    {
      "cell_type": "code",
      "metadata": {
        "id": "gQ286FzC-_lI",
        "outputId": "e806be8f-3cad-4706-d090-868683cb6fdb",
        "colab": {
          "base_uri": "https://localhost:8080/",
          "height": 419
        }
      },
      "source": [
        "dfs[1]"
      ],
      "execution_count": 83,
      "outputs": [
        {
          "output_type": "execute_result",
          "data": {
            "text/html": [
              "<div>\n",
              "<style scoped>\n",
              "    .dataframe tbody tr th:only-of-type {\n",
              "        vertical-align: middle;\n",
              "    }\n",
              "\n",
              "    .dataframe tbody tr th {\n",
              "        vertical-align: top;\n",
              "    }\n",
              "\n",
              "    .dataframe thead th {\n",
              "        text-align: right;\n",
              "    }\n",
              "</style>\n",
              "<table border=\"1\" class=\"dataframe\">\n",
              "  <thead>\n",
              "    <tr style=\"text-align: right;\">\n",
              "      <th></th>\n",
              "      <th>日期</th>\n",
              "      <th>幣別</th>\n",
              "      <th>即期賣出</th>\n",
              "      <th>漲跌</th>\n",
              "      <th>漲跌%</th>\n",
              "    </tr>\n",
              "  </thead>\n",
              "  <tbody>\n",
              "    <tr>\n",
              "      <th>0</th>\n",
              "      <td>2020-09-30</td>\n",
              "      <td>美金 (USD)</td>\n",
              "      <td>29.025</td>\n",
              "      <td>-0.035</td>\n",
              "      <td>-0.1204%</td>\n",
              "    </tr>\n",
              "    <tr>\n",
              "      <th>1</th>\n",
              "      <td>2020-09-29</td>\n",
              "      <td>美金 (USD)</td>\n",
              "      <td>29.060</td>\n",
              "      <td>-0.075</td>\n",
              "      <td>-0.2574%</td>\n",
              "    </tr>\n",
              "    <tr>\n",
              "      <th>2</th>\n",
              "      <td>2020-09-28</td>\n",
              "      <td>美金 (USD)</td>\n",
              "      <td>29.135</td>\n",
              "      <td>-0.055</td>\n",
              "      <td>-0.1884%</td>\n",
              "    </tr>\n",
              "    <tr>\n",
              "      <th>3</th>\n",
              "      <td>2020-09-27</td>\n",
              "      <td>美金 (USD)</td>\n",
              "      <td>29.190</td>\n",
              "      <td>--</td>\n",
              "      <td>--</td>\n",
              "    </tr>\n",
              "    <tr>\n",
              "      <th>4</th>\n",
              "      <td>2020-09-26</td>\n",
              "      <td>美金 (USD)</td>\n",
              "      <td>29.190</td>\n",
              "      <td>-0.005</td>\n",
              "      <td>-0.0171%</td>\n",
              "    </tr>\n",
              "    <tr>\n",
              "      <th>...</th>\n",
              "      <td>...</td>\n",
              "      <td>...</td>\n",
              "      <td>...</td>\n",
              "      <td>...</td>\n",
              "      <td>...</td>\n",
              "    </tr>\n",
              "    <tr>\n",
              "      <th>87</th>\n",
              "      <td>2020-07-05</td>\n",
              "      <td>美金 (USD)</td>\n",
              "      <td>29.530</td>\n",
              "      <td>--</td>\n",
              "      <td>--</td>\n",
              "    </tr>\n",
              "    <tr>\n",
              "      <th>88</th>\n",
              "      <td>2020-07-04</td>\n",
              "      <td>美金 (USD)</td>\n",
              "      <td>29.530</td>\n",
              "      <td>--</td>\n",
              "      <td>--</td>\n",
              "    </tr>\n",
              "    <tr>\n",
              "      <th>89</th>\n",
              "      <td>2020-07-03</td>\n",
              "      <td>美金 (USD)</td>\n",
              "      <td>29.530</td>\n",
              "      <td>-0.02</td>\n",
              "      <td>-0.0677%</td>\n",
              "    </tr>\n",
              "    <tr>\n",
              "      <th>90</th>\n",
              "      <td>2020-07-02</td>\n",
              "      <td>美金 (USD)</td>\n",
              "      <td>29.550</td>\n",
              "      <td>-0.005</td>\n",
              "      <td>-0.0169%</td>\n",
              "    </tr>\n",
              "    <tr>\n",
              "      <th>91</th>\n",
              "      <td>2020-07-01</td>\n",
              "      <td>美金 (USD)</td>\n",
              "      <td>29.555</td>\n",
              "      <td>--</td>\n",
              "      <td>--</td>\n",
              "    </tr>\n",
              "  </tbody>\n",
              "</table>\n",
              "<p>92 rows × 5 columns</p>\n",
              "</div>"
            ],
            "text/plain": [
              "            日期        幣別    即期賣出      漲跌       漲跌%\n",
              "0   2020-09-30  美金 (USD)  29.025  -0.035  -0.1204%\n",
              "1   2020-09-29  美金 (USD)  29.060  -0.075  -0.2574%\n",
              "2   2020-09-28  美金 (USD)  29.135  -0.055  -0.1884%\n",
              "3   2020-09-27  美金 (USD)  29.190      --        --\n",
              "4   2020-09-26  美金 (USD)  29.190  -0.005  -0.0171%\n",
              "..         ...       ...     ...     ...       ...\n",
              "87  2020-07-05  美金 (USD)  29.530      --        --\n",
              "88  2020-07-04  美金 (USD)  29.530      --        --\n",
              "89  2020-07-03  美金 (USD)  29.530   -0.02  -0.0677%\n",
              "90  2020-07-02  美金 (USD)  29.550  -0.005  -0.0169%\n",
              "91  2020-07-01  美金 (USD)  29.555      --        --\n",
              "\n",
              "[92 rows x 5 columns]"
            ]
          },
          "metadata": {
            "tags": []
          },
          "execution_count": 83
        }
      ]
    },
    {
      "cell_type": "code",
      "metadata": {
        "id": "A-elUNgm5Bui",
        "outputId": "3551aa5f-4e27-497c-e6d1-60db46d5874a",
        "colab": {
          "base_uri": "https://localhost:8080/",
          "height": 419
        }
      },
      "source": [
        "df = dfs[1]\n",
        "df"
      ],
      "execution_count": 84,
      "outputs": [
        {
          "output_type": "execute_result",
          "data": {
            "text/html": [
              "<div>\n",
              "<style scoped>\n",
              "    .dataframe tbody tr th:only-of-type {\n",
              "        vertical-align: middle;\n",
              "    }\n",
              "\n",
              "    .dataframe tbody tr th {\n",
              "        vertical-align: top;\n",
              "    }\n",
              "\n",
              "    .dataframe thead th {\n",
              "        text-align: right;\n",
              "    }\n",
              "</style>\n",
              "<table border=\"1\" class=\"dataframe\">\n",
              "  <thead>\n",
              "    <tr style=\"text-align: right;\">\n",
              "      <th></th>\n",
              "      <th>日期</th>\n",
              "      <th>幣別</th>\n",
              "      <th>即期賣出</th>\n",
              "      <th>漲跌</th>\n",
              "      <th>漲跌%</th>\n",
              "    </tr>\n",
              "  </thead>\n",
              "  <tbody>\n",
              "    <tr>\n",
              "      <th>0</th>\n",
              "      <td>2020-09-30</td>\n",
              "      <td>美金 (USD)</td>\n",
              "      <td>29.025</td>\n",
              "      <td>-0.035</td>\n",
              "      <td>-0.1204%</td>\n",
              "    </tr>\n",
              "    <tr>\n",
              "      <th>1</th>\n",
              "      <td>2020-09-29</td>\n",
              "      <td>美金 (USD)</td>\n",
              "      <td>29.060</td>\n",
              "      <td>-0.075</td>\n",
              "      <td>-0.2574%</td>\n",
              "    </tr>\n",
              "    <tr>\n",
              "      <th>2</th>\n",
              "      <td>2020-09-28</td>\n",
              "      <td>美金 (USD)</td>\n",
              "      <td>29.135</td>\n",
              "      <td>-0.055</td>\n",
              "      <td>-0.1884%</td>\n",
              "    </tr>\n",
              "    <tr>\n",
              "      <th>3</th>\n",
              "      <td>2020-09-27</td>\n",
              "      <td>美金 (USD)</td>\n",
              "      <td>29.190</td>\n",
              "      <td>--</td>\n",
              "      <td>--</td>\n",
              "    </tr>\n",
              "    <tr>\n",
              "      <th>4</th>\n",
              "      <td>2020-09-26</td>\n",
              "      <td>美金 (USD)</td>\n",
              "      <td>29.190</td>\n",
              "      <td>-0.005</td>\n",
              "      <td>-0.0171%</td>\n",
              "    </tr>\n",
              "    <tr>\n",
              "      <th>...</th>\n",
              "      <td>...</td>\n",
              "      <td>...</td>\n",
              "      <td>...</td>\n",
              "      <td>...</td>\n",
              "      <td>...</td>\n",
              "    </tr>\n",
              "    <tr>\n",
              "      <th>87</th>\n",
              "      <td>2020-07-05</td>\n",
              "      <td>美金 (USD)</td>\n",
              "      <td>29.530</td>\n",
              "      <td>--</td>\n",
              "      <td>--</td>\n",
              "    </tr>\n",
              "    <tr>\n",
              "      <th>88</th>\n",
              "      <td>2020-07-04</td>\n",
              "      <td>美金 (USD)</td>\n",
              "      <td>29.530</td>\n",
              "      <td>--</td>\n",
              "      <td>--</td>\n",
              "    </tr>\n",
              "    <tr>\n",
              "      <th>89</th>\n",
              "      <td>2020-07-03</td>\n",
              "      <td>美金 (USD)</td>\n",
              "      <td>29.530</td>\n",
              "      <td>-0.02</td>\n",
              "      <td>-0.0677%</td>\n",
              "    </tr>\n",
              "    <tr>\n",
              "      <th>90</th>\n",
              "      <td>2020-07-02</td>\n",
              "      <td>美金 (USD)</td>\n",
              "      <td>29.550</td>\n",
              "      <td>-0.005</td>\n",
              "      <td>-0.0169%</td>\n",
              "    </tr>\n",
              "    <tr>\n",
              "      <th>91</th>\n",
              "      <td>2020-07-01</td>\n",
              "      <td>美金 (USD)</td>\n",
              "      <td>29.555</td>\n",
              "      <td>--</td>\n",
              "      <td>--</td>\n",
              "    </tr>\n",
              "  </tbody>\n",
              "</table>\n",
              "<p>92 rows × 5 columns</p>\n",
              "</div>"
            ],
            "text/plain": [
              "            日期        幣別    即期賣出      漲跌       漲跌%\n",
              "0   2020-09-30  美金 (USD)  29.025  -0.035  -0.1204%\n",
              "1   2020-09-29  美金 (USD)  29.060  -0.075  -0.2574%\n",
              "2   2020-09-28  美金 (USD)  29.135  -0.055  -0.1884%\n",
              "3   2020-09-27  美金 (USD)  29.190      --        --\n",
              "4   2020-09-26  美金 (USD)  29.190  -0.005  -0.0171%\n",
              "..         ...       ...     ...     ...       ...\n",
              "87  2020-07-05  美金 (USD)  29.530      --        --\n",
              "88  2020-07-04  美金 (USD)  29.530      --        --\n",
              "89  2020-07-03  美金 (USD)  29.530   -0.02  -0.0677%\n",
              "90  2020-07-02  美金 (USD)  29.550  -0.005  -0.0169%\n",
              "91  2020-07-01  美金 (USD)  29.555      --        --\n",
              "\n",
              "[92 rows x 5 columns]"
            ]
          },
          "metadata": {
            "tags": []
          },
          "execution_count": 84
        }
      ]
    },
    {
      "cell_type": "code",
      "metadata": {
        "id": "OzwWJ7Q-5a-i",
        "outputId": "418fae6f-c67c-4abf-b16f-a871efa2c2c5",
        "colab": {
          "base_uri": "https://localhost:8080/",
          "height": 34
        }
      },
      "source": [
        "df.columns"
      ],
      "execution_count": 85,
      "outputs": [
        {
          "output_type": "execute_result",
          "data": {
            "text/plain": [
              "Index(['日期', '幣別', '即期賣出', '漲跌', '漲跌%'], dtype='object')"
            ]
          },
          "metadata": {
            "tags": []
          },
          "execution_count": 85
        }
      ]
    },
    {
      "cell_type": "code",
      "metadata": {
        "id": "9VdEVz705eyx"
      },
      "source": [
        "df2 = df[['日期','即期賣出']]"
      ],
      "execution_count": 86,
      "outputs": []
    },
    {
      "cell_type": "code",
      "metadata": {
        "id": "tpajMQw15ymM",
        "outputId": "ebfc0d47-4ddb-4987-c210-5f8cbf5c3c8a",
        "colab": {
          "base_uri": "https://localhost:8080/",
          "height": 204
        }
      },
      "source": [
        "df2.head()"
      ],
      "execution_count": 87,
      "outputs": [
        {
          "output_type": "execute_result",
          "data": {
            "text/html": [
              "<div>\n",
              "<style scoped>\n",
              "    .dataframe tbody tr th:only-of-type {\n",
              "        vertical-align: middle;\n",
              "    }\n",
              "\n",
              "    .dataframe tbody tr th {\n",
              "        vertical-align: top;\n",
              "    }\n",
              "\n",
              "    .dataframe thead th {\n",
              "        text-align: right;\n",
              "    }\n",
              "</style>\n",
              "<table border=\"1\" class=\"dataframe\">\n",
              "  <thead>\n",
              "    <tr style=\"text-align: right;\">\n",
              "      <th></th>\n",
              "      <th>日期</th>\n",
              "      <th>即期賣出</th>\n",
              "    </tr>\n",
              "  </thead>\n",
              "  <tbody>\n",
              "    <tr>\n",
              "      <th>0</th>\n",
              "      <td>2020-09-30</td>\n",
              "      <td>29.025</td>\n",
              "    </tr>\n",
              "    <tr>\n",
              "      <th>1</th>\n",
              "      <td>2020-09-29</td>\n",
              "      <td>29.060</td>\n",
              "    </tr>\n",
              "    <tr>\n",
              "      <th>2</th>\n",
              "      <td>2020-09-28</td>\n",
              "      <td>29.135</td>\n",
              "    </tr>\n",
              "    <tr>\n",
              "      <th>3</th>\n",
              "      <td>2020-09-27</td>\n",
              "      <td>29.190</td>\n",
              "    </tr>\n",
              "    <tr>\n",
              "      <th>4</th>\n",
              "      <td>2020-09-26</td>\n",
              "      <td>29.190</td>\n",
              "    </tr>\n",
              "  </tbody>\n",
              "</table>\n",
              "</div>"
            ],
            "text/plain": [
              "           日期    即期賣出\n",
              "0  2020-09-30  29.025\n",
              "1  2020-09-29  29.060\n",
              "2  2020-09-28  29.135\n",
              "3  2020-09-27  29.190\n",
              "4  2020-09-26  29.190"
            ]
          },
          "metadata": {
            "tags": []
          },
          "execution_count": 87
        }
      ]
    },
    {
      "cell_type": "code",
      "metadata": {
        "id": "1NVYf0Ya50er"
      },
      "source": [
        "df2.index = pd.to_datetime(df2['日期'], format = '%Y/%m/%d')"
      ],
      "execution_count": 88,
      "outputs": []
    },
    {
      "cell_type": "code",
      "metadata": {
        "id": "sHnJGKwE6NF2",
        "outputId": "39396923-1f34-46e7-d07b-342a6aa93a05",
        "colab": {
          "base_uri": "https://localhost:8080/",
          "height": 235
        }
      },
      "source": [
        "df2.head()"
      ],
      "execution_count": 89,
      "outputs": [
        {
          "output_type": "execute_result",
          "data": {
            "text/html": [
              "<div>\n",
              "<style scoped>\n",
              "    .dataframe tbody tr th:only-of-type {\n",
              "        vertical-align: middle;\n",
              "    }\n",
              "\n",
              "    .dataframe tbody tr th {\n",
              "        vertical-align: top;\n",
              "    }\n",
              "\n",
              "    .dataframe thead th {\n",
              "        text-align: right;\n",
              "    }\n",
              "</style>\n",
              "<table border=\"1\" class=\"dataframe\">\n",
              "  <thead>\n",
              "    <tr style=\"text-align: right;\">\n",
              "      <th></th>\n",
              "      <th>日期</th>\n",
              "      <th>即期賣出</th>\n",
              "    </tr>\n",
              "    <tr>\n",
              "      <th>日期</th>\n",
              "      <th></th>\n",
              "      <th></th>\n",
              "    </tr>\n",
              "  </thead>\n",
              "  <tbody>\n",
              "    <tr>\n",
              "      <th>2020-09-30</th>\n",
              "      <td>2020-09-30</td>\n",
              "      <td>29.025</td>\n",
              "    </tr>\n",
              "    <tr>\n",
              "      <th>2020-09-29</th>\n",
              "      <td>2020-09-29</td>\n",
              "      <td>29.060</td>\n",
              "    </tr>\n",
              "    <tr>\n",
              "      <th>2020-09-28</th>\n",
              "      <td>2020-09-28</td>\n",
              "      <td>29.135</td>\n",
              "    </tr>\n",
              "    <tr>\n",
              "      <th>2020-09-27</th>\n",
              "      <td>2020-09-27</td>\n",
              "      <td>29.190</td>\n",
              "    </tr>\n",
              "    <tr>\n",
              "      <th>2020-09-26</th>\n",
              "      <td>2020-09-26</td>\n",
              "      <td>29.190</td>\n",
              "    </tr>\n",
              "  </tbody>\n",
              "</table>\n",
              "</div>"
            ],
            "text/plain": [
              "                    日期    即期賣出\n",
              "日期                            \n",
              "2020-09-30  2020-09-30  29.025\n",
              "2020-09-29  2020-09-29  29.060\n",
              "2020-09-28  2020-09-28  29.135\n",
              "2020-09-27  2020-09-27  29.190\n",
              "2020-09-26  2020-09-26  29.190"
            ]
          },
          "metadata": {
            "tags": []
          },
          "execution_count": 89
        }
      ]
    },
    {
      "cell_type": "code",
      "metadata": {
        "id": "25p3gq1r6wak",
        "outputId": "6d52b975-053c-4bcb-b403-95f1ba465218",
        "colab": {
          "base_uri": "https://localhost:8080/",
          "height": 447
        }
      },
      "source": [
        "# %pylab inline\n",
        "df2['即期賣出'].plot(kind = 'line') "
      ],
      "execution_count": 90,
      "outputs": [
        {
          "output_type": "execute_result",
          "data": {
            "text/plain": [
              "<matplotlib.axes._subplots.AxesSubplot at 0x7f186c6cfa90>"
            ]
          },
          "metadata": {
            "tags": []
          },
          "execution_count": 90
        },
        {
          "output_type": "stream",
          "text": [
            "/usr/local/lib/python3.6/dist-packages/matplotlib/backends/backend_agg.py:214: RuntimeWarning: Glyph 26085 missing from current font.\n",
            "  font.set_text(s, 0.0, flags=flags)\n",
            "/usr/local/lib/python3.6/dist-packages/matplotlib/backends/backend_agg.py:214: RuntimeWarning: Glyph 26399 missing from current font.\n",
            "  font.set_text(s, 0.0, flags=flags)\n",
            "/usr/local/lib/python3.6/dist-packages/matplotlib/backends/backend_agg.py:183: RuntimeWarning: Glyph 26085 missing from current font.\n",
            "  font.set_text(s, 0, flags=flags)\n",
            "/usr/local/lib/python3.6/dist-packages/matplotlib/backends/backend_agg.py:183: RuntimeWarning: Glyph 26399 missing from current font.\n",
            "  font.set_text(s, 0, flags=flags)\n"
          ],
          "name": "stderr"
        },
        {
          "output_type": "display_data",
          "data": {
            "image/png": "[encoded data removed]",
            "text/plain": [
              "<Figure size 432x288 with 1 Axes>"
            ]
          },
          "metadata": {
            "tags": [],
            "needs_background": "light"
          }
        }
      ]
    },
    {
      "cell_type": "code",
      "metadata": {
        "id": "PDFEMi8R64Kr"
      },
      "source": [
        "# Colab進行matplotlib繪圖時顯示繁體中文\n",
        "# 下載台北思源黑體並命名taipei_sans_tc_beta.ttf，移至指定路徑\n",
        "# !wget -O taipei_sans_tc_beta.ttf https://drive.google.com/uc?id=1eGAsTN1HBpJAkeVM57_C7ccp7hbgSz3_&export=download\n",
        "# !mv taipei_sans_tc_beta.ttf /usr/local/lib/python3.6/dist-packages/matplotlib//mpl-data/fonts/ttf\n",
        "from matplotlib.font_manager import FontProperties\n",
        "import matplotlib.pyplot as plt \n",
        "\n",
        "# 自定義字體變數\n",
        "myfont = FontProperties(fname=r'/usr/local/lib/python3.6/dist-packages/matplotlib/mpl-data/fonts/ttf/taipei_sans_tc_beta.ttf')"
      ],
      "execution_count": 114,
      "outputs": []
    },
    {
      "cell_type": "code",
      "metadata": {
        "id": "OsmwcHkA9nax",
        "outputId": "719fc2c8-9762-411c-825d-deb90cc0825f",
        "colab": {
          "base_uri": "https://localhost:8080/",
          "height": 308
        }
      },
      "source": [
        "# %pylab inline\n",
        "df2['即期賣出'].plot(kind = 'line') \n",
        "plt.xlabel(\"日期\",fontproperties=myfont)  "
      ],
      "execution_count": 117,
      "outputs": [
        {
          "output_type": "execute_result",
          "data": {
            "text/plain": [
              "Text(0.5, 0, '日期')"
            ]
          },
          "metadata": {
            "tags": []
          },
          "execution_count": 117
        },
        {
          "output_type": "display_data",
          "data": {
            "image/png": "[encoded data removed]",
            "text/plain": [
              "<Figure size 432x288 with 1 Axes>"
            ]
          },
          "metadata": {
            "tags": [],
            "needs_background": "light"
          }
        }
      ]
    },
    {
      "cell_type": "code",
      "metadata": {
        "id": "GcFGNmZBAr6q",
        "outputId": "e02e0479-a34d-4c43-db5e-78adfae09c4a",
        "colab": {
          "base_uri": "https://localhost:8080/",
          "height": 235
        }
      },
      "source": [
        "df2.head()"
      ],
      "execution_count": 105,
      "outputs": [
        {
          "output_type": "execute_result",
          "data": {
            "text/html": [
              "<div>\n",
              "<style scoped>\n",
              "    .dataframe tbody tr th:only-of-type {\n",
              "        vertical-align: middle;\n",
              "    }\n",
              "\n",
              "    .dataframe tbody tr th {\n",
              "        vertical-align: top;\n",
              "    }\n",
              "\n",
              "    .dataframe thead th {\n",
              "        text-align: right;\n",
              "    }\n",
              "</style>\n",
              "<table border=\"1\" class=\"dataframe\">\n",
              "  <thead>\n",
              "    <tr style=\"text-align: right;\">\n",
              "      <th></th>\n",
              "      <th>日期</th>\n",
              "      <th>即期賣出</th>\n",
              "      <th>ma30</th>\n",
              "    </tr>\n",
              "    <tr>\n",
              "      <th>日期</th>\n",
              "      <th></th>\n",
              "      <th></th>\n",
              "      <th></th>\n",
              "    </tr>\n",
              "  </thead>\n",
              "  <tbody>\n",
              "    <tr>\n",
              "      <th>2020-07-01</th>\n",
              "      <td>2020-07-01</td>\n",
              "      <td>29.555</td>\n",
              "      <td>NaN</td>\n",
              "    </tr>\n",
              "    <tr>\n",
              "      <th>2020-07-02</th>\n",
              "      <td>2020-07-02</td>\n",
              "      <td>29.550</td>\n",
              "      <td>NaN</td>\n",
              "    </tr>\n",
              "    <tr>\n",
              "      <th>2020-07-03</th>\n",
              "      <td>2020-07-03</td>\n",
              "      <td>29.530</td>\n",
              "      <td>NaN</td>\n",
              "    </tr>\n",
              "    <tr>\n",
              "      <th>2020-07-04</th>\n",
              "      <td>2020-07-04</td>\n",
              "      <td>29.530</td>\n",
              "      <td>NaN</td>\n",
              "    </tr>\n",
              "    <tr>\n",
              "      <th>2020-07-05</th>\n",
              "      <td>2020-07-05</td>\n",
              "      <td>29.530</td>\n",
              "      <td>NaN</td>\n",
              "    </tr>\n",
              "  </tbody>\n",
              "</table>\n",
              "</div>"
            ],
            "text/plain": [
              "                    日期    即期賣出  ma30\n",
              "日期                                  \n",
              "2020-07-01  2020-07-01  29.555   NaN\n",
              "2020-07-02  2020-07-02  29.550   NaN\n",
              "2020-07-03  2020-07-03  29.530   NaN\n",
              "2020-07-04  2020-07-04  29.530   NaN\n",
              "2020-07-05  2020-07-05  29.530   NaN"
            ]
          },
          "metadata": {
            "tags": []
          },
          "execution_count": 105
        }
      ]
    },
    {
      "cell_type": "code",
      "metadata": {
        "id": "q-nnDs4aBqou"
      },
      "source": [
        "# 資料日期由遠排至近\n",
        "df2.sort_index(inplace = True)"
      ],
      "execution_count": 106,
      "outputs": []
    },
    {
      "cell_type": "code",
      "metadata": {
        "id": "pwRnOgmKBx-x",
        "outputId": "e260f26d-c438-42de-cb25-2ba4020aa33a",
        "colab": {
          "base_uri": "https://localhost:8080/",
          "height": 235
        }
      },
      "source": [
        "df2.head()"
      ],
      "execution_count": 107,
      "outputs": [
        {
          "output_type": "execute_result",
          "data": {
            "text/html": [
              "<div>\n",
              "<style scoped>\n",
              "    .dataframe tbody tr th:only-of-type {\n",
              "        vertical-align: middle;\n",
              "    }\n",
              "\n",
              "    .dataframe tbody tr th {\n",
              "        vertical-align: top;\n",
              "    }\n",
              "\n",
              "    .dataframe thead th {\n",
              "        text-align: right;\n",
              "    }\n",
              "</style>\n",
              "<table border=\"1\" class=\"dataframe\">\n",
              "  <thead>\n",
              "    <tr style=\"text-align: right;\">\n",
              "      <th></th>\n",
              "      <th>日期</th>\n",
              "      <th>即期賣出</th>\n",
              "      <th>ma30</th>\n",
              "    </tr>\n",
              "    <tr>\n",
              "      <th>日期</th>\n",
              "      <th></th>\n",
              "      <th></th>\n",
              "      <th></th>\n",
              "    </tr>\n",
              "  </thead>\n",
              "  <tbody>\n",
              "    <tr>\n",
              "      <th>2020-07-01</th>\n",
              "      <td>2020-07-01</td>\n",
              "      <td>29.555</td>\n",
              "      <td>NaN</td>\n",
              "    </tr>\n",
              "    <tr>\n",
              "      <th>2020-07-02</th>\n",
              "      <td>2020-07-02</td>\n",
              "      <td>29.550</td>\n",
              "      <td>NaN</td>\n",
              "    </tr>\n",
              "    <tr>\n",
              "      <th>2020-07-03</th>\n",
              "      <td>2020-07-03</td>\n",
              "      <td>29.530</td>\n",
              "      <td>NaN</td>\n",
              "    </tr>\n",
              "    <tr>\n",
              "      <th>2020-07-04</th>\n",
              "      <td>2020-07-04</td>\n",
              "      <td>29.530</td>\n",
              "      <td>NaN</td>\n",
              "    </tr>\n",
              "    <tr>\n",
              "      <th>2020-07-05</th>\n",
              "      <td>2020-07-05</td>\n",
              "      <td>29.530</td>\n",
              "      <td>NaN</td>\n",
              "    </tr>\n",
              "  </tbody>\n",
              "</table>\n",
              "</div>"
            ],
            "text/plain": [
              "                    日期    即期賣出  ma30\n",
              "日期                                  \n",
              "2020-07-01  2020-07-01  29.555   NaN\n",
              "2020-07-02  2020-07-02  29.550   NaN\n",
              "2020-07-03  2020-07-03  29.530   NaN\n",
              "2020-07-04  2020-07-04  29.530   NaN\n",
              "2020-07-05  2020-07-05  29.530   NaN"
            ]
          },
          "metadata": {
            "tags": []
          },
          "execution_count": 107
        }
      ]
    },
    {
      "cell_type": "code",
      "metadata": {
        "id": "fN83g0UdB0Ag",
        "outputId": "9c25a0ce-51c9-459e-e331-c39f2ed1be3f",
        "colab": {
          "base_uri": "https://localhost:8080/",
          "height": 139
        }
      },
      "source": [
        "# 30天均線\n",
        "df2['ma30'] = df2['即期賣出'].rolling(window=30).mean()"
      ],
      "execution_count": 108,
      "outputs": [
        {
          "output_type": "stream",
          "text": [
            "/usr/local/lib/python3.6/dist-packages/ipykernel_launcher.py:2: SettingWithCopyWarning: \n",
            "A value is trying to be set on a copy of a slice from a DataFrame.\n",
            "Try using .loc[row_indexer,col_indexer] = value instead\n",
            "\n",
            "See the caveats in the documentation: https://pandas.pydata.org/pandas-docs/stable/user_guide/indexing.html#returning-a-view-versus-a-copy\n",
            "  \n"
          ],
          "name": "stderr"
        }
      ]
    },
    {
      "cell_type": "code",
      "metadata": {
        "id": "EesBUNP5Ctll",
        "outputId": "79d25539-a34b-4909-f8a5-c7d22a4b0453",
        "colab": {
          "base_uri": "https://localhost:8080/",
          "height": 235
        }
      },
      "source": [
        "df2.head()"
      ],
      "execution_count": 109,
      "outputs": [
        {
          "output_type": "execute_result",
          "data": {
            "text/html": [
              "<div>\n",
              "<style scoped>\n",
              "    .dataframe tbody tr th:only-of-type {\n",
              "        vertical-align: middle;\n",
              "    }\n",
              "\n",
              "    .dataframe tbody tr th {\n",
              "        vertical-align: top;\n",
              "    }\n",
              "\n",
              "    .dataframe thead th {\n",
              "        text-align: right;\n",
              "    }\n",
              "</style>\n",
              "<table border=\"1\" class=\"dataframe\">\n",
              "  <thead>\n",
              "    <tr style=\"text-align: right;\">\n",
              "      <th></th>\n",
              "      <th>日期</th>\n",
              "      <th>即期賣出</th>\n",
              "      <th>ma30</th>\n",
              "    </tr>\n",
              "    <tr>\n",
              "      <th>日期</th>\n",
              "      <th></th>\n",
              "      <th></th>\n",
              "      <th></th>\n",
              "    </tr>\n",
              "  </thead>\n",
              "  <tbody>\n",
              "    <tr>\n",
              "      <th>2020-07-01</th>\n",
              "      <td>2020-07-01</td>\n",
              "      <td>29.555</td>\n",
              "      <td>NaN</td>\n",
              "    </tr>\n",
              "    <tr>\n",
              "      <th>2020-07-02</th>\n",
              "      <td>2020-07-02</td>\n",
              "      <td>29.550</td>\n",
              "      <td>NaN</td>\n",
              "    </tr>\n",
              "    <tr>\n",
              "      <th>2020-07-03</th>\n",
              "      <td>2020-07-03</td>\n",
              "      <td>29.530</td>\n",
              "      <td>NaN</td>\n",
              "    </tr>\n",
              "    <tr>\n",
              "      <th>2020-07-04</th>\n",
              "      <td>2020-07-04</td>\n",
              "      <td>29.530</td>\n",
              "      <td>NaN</td>\n",
              "    </tr>\n",
              "    <tr>\n",
              "      <th>2020-07-05</th>\n",
              "      <td>2020-07-05</td>\n",
              "      <td>29.530</td>\n",
              "      <td>NaN</td>\n",
              "    </tr>\n",
              "  </tbody>\n",
              "</table>\n",
              "</div>"
            ],
            "text/plain": [
              "                    日期    即期賣出  ma30\n",
              "日期                                  \n",
              "2020-07-01  2020-07-01  29.555   NaN\n",
              "2020-07-02  2020-07-02  29.550   NaN\n",
              "2020-07-03  2020-07-03  29.530   NaN\n",
              "2020-07-04  2020-07-04  29.530   NaN\n",
              "2020-07-05  2020-07-05  29.530   NaN"
            ]
          },
          "metadata": {
            "tags": []
          },
          "execution_count": 109
        }
      ]
    },
    {
      "cell_type": "code",
      "metadata": {
        "id": "YVeuUTStCxBH",
        "outputId": "13c35fa8-234b-47bb-c3e6-d8fbc18b738b",
        "colab": {
          "base_uri": "https://localhost:8080/",
          "height": 583
        }
      },
      "source": [
        "df2[['即期賣出','ma30']].plot(kind = 'line')\n",
        "plt.xlabel('日期',fontproperties=myfont)"
      ],
      "execution_count": 124,
      "outputs": [
        {
          "output_type": "execute_result",
          "data": {
            "text/plain": [
              "Text(0.5, 0, '日期')"
            ]
          },
          "metadata": {
            "tags": []
          },
          "execution_count": 124
        },
        {
          "output_type": "stream",
          "text": [
            "/usr/local/lib/python3.6/dist-packages/matplotlib/backends/backend_agg.py:214: RuntimeWarning: Glyph 21363 missing from current font.\n",
            "  font.set_text(s, 0.0, flags=flags)\n",
            "/usr/local/lib/python3.6/dist-packages/matplotlib/backends/backend_agg.py:214: RuntimeWarning: Glyph 26399 missing from current font.\n",
            "  font.set_text(s, 0.0, flags=flags)\n",
            "/usr/local/lib/python3.6/dist-packages/matplotlib/backends/backend_agg.py:214: RuntimeWarning: Glyph 36067 missing from current font.\n",
            "  font.set_text(s, 0.0, flags=flags)\n",
            "/usr/local/lib/python3.6/dist-packages/matplotlib/backends/backend_agg.py:214: RuntimeWarning: Glyph 20986 missing from current font.\n",
            "  font.set_text(s, 0.0, flags=flags)\n",
            "/usr/local/lib/python3.6/dist-packages/matplotlib/backends/backend_agg.py:183: RuntimeWarning: Glyph 21363 missing from current font.\n",
            "  font.set_text(s, 0, flags=flags)\n",
            "/usr/local/lib/python3.6/dist-packages/matplotlib/backends/backend_agg.py:183: RuntimeWarning: Glyph 26399 missing from current font.\n",
            "  font.set_text(s, 0, flags=flags)\n",
            "/usr/local/lib/python3.6/dist-packages/matplotlib/backends/backend_agg.py:183: RuntimeWarning: Glyph 36067 missing from current font.\n",
            "  font.set_text(s, 0, flags=flags)\n",
            "/usr/local/lib/python3.6/dist-packages/matplotlib/backends/backend_agg.py:183: RuntimeWarning: Glyph 20986 missing from current font.\n",
            "  font.set_text(s, 0, flags=flags)\n"
          ],
          "name": "stderr"
        },
        {
          "output_type": "display_data",
          "data": {
            "image/png": "[encoded data removed]",
            "text/plain": [
              "<Figure size 432x288 with 1 Axes>"
            ]
          },
          "metadata": {
            "tags": [],
            "needs_background": "light"
          }
        }
      ]
    },
    {
      "cell_type": "code",
      "metadata": {
        "id": "b6kW0aZPDKWQ"
      },
      "source": [
        ""
      ],
      "execution_count": null,
      "outputs": []
    }
  ]
}